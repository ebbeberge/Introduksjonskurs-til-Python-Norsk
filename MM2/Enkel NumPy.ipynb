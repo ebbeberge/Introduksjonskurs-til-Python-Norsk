{
 "cells": [
  {
   "cell_type": "markdown",
   "metadata": {},
   "source": [
    "## Enkel NumPy 1"
   ]
  },
  {
   "cell_type": "markdown",
   "metadata": {},
   "source": [
    "I dette Jupyter arket skal vi se på NumPy biblioteket og hvordan man kan lage forskjellige vektorer og matriser. "
   ]
  },
  {
   "cell_type": "code",
   "execution_count": 6,
   "metadata": {},
   "outputs": [
    {
     "name": "stdout",
     "output_type": "stream",
     "text": [
      "Summen av listene:  [1, 2, 3, 4, 5, 6]\n",
      "\n",
      "Multiplikasjon med tall:  [1, 2, 3, 1, 2, 3, 1, 2, 3]\n"
     ]
    }
   ],
   "source": [
    "# Lager to vanlige Python lister\n",
    "liste1 = [1, 2, 3]\n",
    "liste2 = [4, 5, 6]\n",
    "\n",
    "# Printe ut summen av listene\n",
    "print(\"Summen av listene: \", liste1 + liste2)\n",
    "\n",
    "# Printe ut multiplikasjon av tall med liste\n",
    "print(\"\\nMultiplikasjon med tall: \", 3 * liste1)"
   ]
  },
  {
   "cell_type": "markdown",
   "metadata": {},
   "source": [
    "Konklusjon: Vanlige Python lister fungerer dårlig til lineær algebra. Heldigvis har vi NumPy pakken!"
   ]
  },
  {
   "cell_type": "code",
   "execution_count": 7,
   "metadata": {},
   "outputs": [],
   "source": [
    "# Vi importerer NumPy med aliaset np\n",
    "import numpy as np"
   ]
  },
  {
   "cell_type": "code",
   "execution_count": 8,
   "metadata": {},
   "outputs": [
    {
     "name": "stdout",
     "output_type": "stream",
     "text": [
      "Summen av vektorene:  [5 7 9]\n",
      "\n",
      "Multiplikasjon med tall:  [3 6 9]\n"
     ]
    }
   ],
   "source": [
    "# Lager to NumPy vektorer\n",
    "vektor1 = np.array(liste1)\n",
    "vektor2 = np.array(liste2)\n",
    "\n",
    "# Printe ut summen av vektorene\n",
    "print(\"Summen av vektorene: \", vektor1 + vektor2)\n",
    "\n",
    "# Printe ut multiplikasjon av tall med vektor\n",
    "print(\"\\nMultiplikasjon med tall: \", 3 * vektor1)"
   ]
  },
  {
   "cell_type": "code",
   "execution_count": 13,
   "metadata": {},
   "outputs": [
    {
     "name": "stdout",
     "output_type": "stream",
     "text": [
      "Punkvis produkt: \n",
      " [[ 1  4]\n",
      " [ 9 16]]\n",
      "\n",
      "Matrisemultiplikasjon: \n",
      " [[ 7 10]\n",
      " [15 22]]\n"
     ]
    }
   ],
   "source": [
    "# Lager en NumPy matrise\n",
    "matrise = np.array([[1, 2], [3, 4]])\n",
    "\n",
    "# Punktvis produkt av matriser\n",
    "print(\"Punkvis produkt: \\n\", matrise * matrise)\n",
    "\n",
    "# Matrisemultiplikasjon av matriser\n",
    "print(\"\\nMatrisemultiplikasjon: \\n\", matrise @ matrise)"
   ]
  },
  {
   "cell_type": "markdown",
   "metadata": {},
   "source": [
    "Merk at man gjør matrisemultiplikasjon med @-symbolet. Dette er IKKE det samme som punktvis produkt, som bruker *-symbolet."
   ]
  },
  {
   "cell_type": "markdown",
   "metadata": {},
   "source": [
    "## Enkel NumPy 2"
   ]
  },
  {
   "cell_type": "markdown",
   "metadata": {},
   "source": [
    "Vi skal nå se på hvordan man kan lage spesielle matriser og vektorer, og hvordan man henter ut verdier av matriser og vektorer."
   ]
  },
  {
   "cell_type": "code",
   "execution_count": 17,
   "metadata": {},
   "outputs": [
    {
     "name": "stdout",
     "output_type": "stream",
     "text": [
      "[ 7  9 11 13 15 17]\n"
     ]
    }
   ],
   "source": [
    "# Lage vektorer med tall på rad\n",
    "tall_på_rad = np.arange(7, 18, 2)\n",
    "print(tall_på_rad)"
   ]
  },
  {
   "cell_type": "code",
   "execution_count": 22,
   "metadata": {},
   "outputs": [
    {
     "name": "stdout",
     "output_type": "stream",
     "text": [
      "Matrise med bare nullere: \n",
      " [[0. 0. 0.]\n",
      " [0. 0. 0.]\n",
      " [0. 0. 0.]]\n",
      "\n",
      "Matrise med bare enere: \n",
      " [[1. 1. 1.]\n",
      " [1. 1. 1.]\n",
      " [1. 1. 1.]]\n"
     ]
    }
   ],
   "source": [
    "# Lager matriser med bare nullere\n",
    "matrise_med_nullere = np.zeros((3, 3))\n",
    "print(\"Matrise med bare nullere: \\n\", matrise_med_nullere)\n",
    "\n",
    "# Lager matriser med bare enere\n",
    "matrise_med_enere = np.ones((3, 3))\n",
    "print(\"\\nMatrise med bare enere: \\n\", matrise_med_enere)"
   ]
  },
  {
   "cell_type": "markdown",
   "metadata": {},
   "source": [
    "Vi kan hente ut elementer fra matriser og vektorer, og deretter sette dem til nye verdier om vi ønsker."
   ]
  },
  {
   "cell_type": "code",
   "execution_count": 23,
   "metadata": {},
   "outputs": [
    {
     "name": "stdout",
     "output_type": "stream",
     "text": [
      "[ 7 99 11 13 15 17]\n"
     ]
    }
   ],
   "source": [
    "# Hente ut elementer og sette nye verdier\n",
    "tall_på_rad[1] = 99\n",
    "print(tall_på_rad)"
   ]
  },
  {
   "cell_type": "code",
   "execution_count": 25,
   "metadata": {},
   "outputs": [],
   "source": [
    "# Hente ut en hel rad\n",
    "rad_med_index_1 = matrise[1, :]\n",
    "\n",
    "# Hente ut en hel kolonne\n",
    "kolonne_med_index_1 = matrise[:, 1]"
   ]
  },
  {
   "cell_type": "markdown",
   "metadata": {},
   "source": [
    "Vi kan sette matriser og vektorer sammen med hstack-kommandoen."
   ]
  },
  {
   "cell_type": "code",
   "execution_count": 49,
   "metadata": {},
   "outputs": [
    {
     "data": {
      "text/plain": [
       "array([1, 2, 3, 4, 5, 6])"
      ]
     },
     "execution_count": 49,
     "metadata": {},
     "output_type": "execute_result"
    }
   ],
   "source": [
    "# horisontal stacking\n",
    "vector1 = np.array([1, 2, 3])\n",
    "vector2 = np.array([4, 5, 6])\n",
    "\n",
    "np.hstack((vector1, vector2))"
   ]
  }
 ],
 "metadata": {
  "kernelspec": {
   "display_name": "Python 3",
   "language": "python",
   "name": "python3"
  },
  "language_info": {
   "codemirror_mode": {
    "name": "ipython",
    "version": 3
   },
   "file_extension": ".py",
   "mimetype": "text/x-python",
   "name": "python",
   "nbconvert_exporter": "python",
   "pygments_lexer": "ipython3",
   "version": "3.8.5"
  }
 },
 "nbformat": 4,
 "nbformat_minor": 4
}

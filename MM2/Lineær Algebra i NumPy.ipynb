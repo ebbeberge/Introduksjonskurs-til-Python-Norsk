{
 "cells": [
  {
   "cell_type": "markdown",
   "metadata": {},
   "source": [
    "## Lineær Algebra i NumPy"
   ]
  },
  {
   "cell_type": "markdown",
   "metadata": {},
   "source": [
    "I dette arket ser vi på fire metoder i lineær algebra delen av NumPy som er vanlig å bruke i lineær algebra."
   ]
  },
  {
   "cell_type": "code",
   "execution_count": 2,
   "metadata": {},
   "outputs": [],
   "source": [
    "# Imporerer NumPy og underdelen LinAlg\n",
    "import numpy as np\n",
    "from numpy import linalg"
   ]
  },
  {
   "cell_type": "code",
   "execution_count": 3,
   "metadata": {},
   "outputs": [],
   "source": [
    "# Lager en matrise og en vektor\n",
    "matrise = np.array([[1, 2], [-3.5, 4]])\n",
    "vektor = np.array([1, 0])"
   ]
  },
  {
   "cell_type": "code",
   "execution_count": 5,
   "metadata": {},
   "outputs": [
    {
     "name": "stdout",
     "output_type": "stream",
     "text": [
      "11.000000000000002\n"
     ]
    }
   ],
   "source": [
    "# 1. Finne determinanten til en matrise\n",
    "\n",
    "determinant = linalg.det(matrise)\n",
    "print(determinant)"
   ]
  },
  {
   "cell_type": "code",
   "execution_count": 7,
   "metadata": {},
   "outputs": [
    {
     "name": "stdout",
     "output_type": "stream",
     "text": [
      "[[ 0.36363636 -0.18181818]\n",
      " [ 0.31818182  0.09090909]]\n"
     ]
    }
   ],
   "source": [
    "# 2. IFinne inversen til en matrise\n",
    "\n",
    "invers = linalg.inv(matrise)\n",
    "print(invers)"
   ]
  },
  {
   "cell_type": "code",
   "execution_count": 8,
   "metadata": {},
   "outputs": [
    {
     "name": "stdout",
     "output_type": "stream",
     "text": [
      "[0.36363636 0.31818182]\n"
     ]
    }
   ],
   "source": [
    "# 3. Finne løsninger til ligningsystemer (Ax = b)\n",
    "\n",
    "løsning = linalg.solve(matrise, vektor)\n",
    "print(løsning)"
   ]
  },
  {
   "cell_type": "code",
   "execution_count": 12,
   "metadata": {},
   "outputs": [
    {
     "name": "stdout",
     "output_type": "stream",
     "text": [
      "Egenverdier: \n",
      " [2.5+2.17944947j 2.5-2.17944947j]\n",
      "\n",
      "Egenvektorer: \n",
      " [[0.34188173-0.49674264j 0.34188173+0.49674264j]\n",
      " [0.79772404+0.j         0.79772404-0.j        ]]\n"
     ]
    }
   ],
   "source": [
    "# 4. Finne egenverdier og egenvektorer\n",
    "\n",
    "egenverdier, egenvektorer = linalg.eig(matrise)\n",
    "\n",
    "print(\"Egenverdier: \\n\", egenverdier)\n",
    "print(\"\\nEgenvektorer: \\n\", egenvektorer)"
   ]
  }
 ],
 "metadata": {
  "kernelspec": {
   "display_name": "Python 3",
   "language": "python",
   "name": "python3"
  },
  "language_info": {
   "codemirror_mode": {
    "name": "ipython",
    "version": 3
   },
   "file_extension": ".py",
   "mimetype": "text/x-python",
   "name": "python",
   "nbconvert_exporter": "python",
   "pygments_lexer": "ipython3",
   "version": "3.8.5"
  }
 },
 "nbformat": 4,
 "nbformat_minor": 4
}

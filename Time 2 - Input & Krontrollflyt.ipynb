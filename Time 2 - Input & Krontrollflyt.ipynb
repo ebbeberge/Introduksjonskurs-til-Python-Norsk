{
 "cells": [
  {
   "cell_type": "markdown",
   "metadata": {},
   "source": [
    "## Input"
   ]
  },
  {
   "cell_type": "markdown",
   "metadata": {},
   "source": [
    "Med <i>input</i> funksjonen kan vi ta inn informasjon fra brukeren (den som kjører programmet)."
   ]
  },
  {
   "cell_type": "code",
   "execution_count": 6,
   "metadata": {},
   "outputs": [
    {
     "name": "stdout",
     "output_type": "stream",
     "text": [
      "Heisann, hvordan går det?Bare bra\n",
      "Bare braBare bra\n"
     ]
    }
   ],
   "source": [
    "tilstand = input(\"Heisann, hvordan går det?\")\n",
    "print(tilstand + tilstand) # kan bruke det vi tar inn akkurat som andre variabler."
   ]
  },
  {
   "cell_type": "markdown",
   "metadata": {},
   "source": [
    "## Eksempel: Tommer til cm"
   ]
  },
  {
   "cell_type": "code",
   "execution_count": 18,
   "metadata": {
    "scrolled": true
   },
   "outputs": [
    {
     "name": "stdout",
     "output_type": "stream",
     "text": [
      "Hei. Skriv inn antall tommer:15\n",
      "Dette er 38.1 i cm.\n"
     ]
    }
   ],
   "source": [
    "# Tar inn tommer fra brukeren.\n",
    "anntall_tommer = float(input(\"Hei. Skriv inn antall tommer:\"))\n",
    "\n",
    "#  Konverterer til cm.\n",
    "antall_cm = round(anntall_tommer/0.3937, 3)\n",
    "\n",
    "# Skriver ut resultatet i cm.\n",
    "print(\"Dette er \" + str(antall_cm) + \" i cm.\")"
   ]
  },
  {
   "cell_type": "markdown",
   "metadata": {},
   "source": [
    "## Kontrollflyt"
   ]
  },
  {
   "cell_type": "markdown",
   "metadata": {},
   "source": [
    "Noen ganger vil vi at deler av programmet vårt skal gjøre forskjellige ting basert på hvilken informasjon vi har. "
   ]
  },
  {
   "cell_type": "code",
   "execution_count": 22,
   "metadata": {
    "collapsed": true
   },
   "outputs": [],
   "source": [
    "# Vi har et input a.\n",
    "# if a har en hvis verdi:\n",
    "    # -- gjøre dette -- \n",
    "# Ellers hvis a er noe annet:\n",
    "    # -- gjøre dette i stedet--"
   ]
  },
  {
   "cell_type": "code",
   "execution_count": 30,
   "metadata": {},
   "outputs": [
    {
     "name": "stdout",
     "output_type": "stream",
     "text": [
      "0\n"
     ]
    }
   ],
   "source": [
    "# Dersom a er lik 0, skriv ut a. Hvis ikke, skriv ut a + 17.\n",
    "a = 0\n",
    "if a == 0:\n",
    "    print(a)\n",
    "else:\n",
    "    print(a + 17)"
   ]
  },
  {
   "cell_type": "code",
   "execution_count": 36,
   "metadata": {},
   "outputs": [
    {
     "name": "stdout",
     "output_type": "stream",
     "text": [
      "Skriv inn et heltall: 15\n",
      "15 er et oddetall\n"
     ]
    }
   ],
   "source": [
    "# Et program som skjekker om et tall er et partall eller et oddetall.\n",
    "tall = int(input(\"Skriv inn et heltall: \"))\n",
    "if tall % 2 == 0:\n",
    "    print(str(tall) + \" er et partall\")\n",
    "else:\n",
    "    print(str(tall) + \" er et oddetall\")"
   ]
  },
  {
   "cell_type": "code",
   "execution_count": 1,
   "metadata": {
    "collapsed": true
   },
   "outputs": [],
   "source": [
    "# Hvis det er mer enn to muligheter, så kan vi bruke if-elif-else.\n",
    "\n",
    "# if (kondisjon):\n",
    "    # --gjør dette\n",
    "# elif (kondisjon):\n",
    "    # --gjør dette istedet--\n",
    "# else:\n",
    "    # --gjør dette istedet--"
   ]
  },
  {
   "cell_type": "markdown",
   "metadata": {},
   "source": [
    "## Eksempel: Andregradspolynom"
   ]
  },
  {
   "cell_type": "code",
   "execution_count": 52,
   "metadata": {},
   "outputs": [
    {
     "name": "stdout",
     "output_type": "stream",
     "text": [
      "Skriv inn a koeffisienten: 1\n",
      "Skriv inn b koeffisienten: 1\n",
      "Skriv inn c koeffisienten: 0.25\n",
      "Det eneste nullpunktet er -0.5\n"
     ]
    }
   ],
   "source": [
    "# Finner nullpunkt til et andregradspolynom:\n",
    "import math\n",
    "\n",
    "# Tar inn koeffisientene\n",
    "a = float(input(\"Skriv inn a koeffisienten: \"))\n",
    "b = float(input(\"Skriv inn b koeffisienten: \"))\n",
    "c = float(input(\"Skriv inn c koeffisienten: \"))\n",
    "\n",
    "# Skjekker om det er null, en, eller to løsninger og skriver de ut.\n",
    "if (b ** 2 - 4 * a * c < 0):\n",
    "    print(\"Det er ingen reelle løsninger!\")\n",
    "elif (b ** 2 - 4 * a * c == 0):\n",
    "    eneste_nullpunkt = (-b)/(2 * a)\n",
    "    print(\"Det eneste nullpunktet er \" + str(eneste_nullpunkt))\n",
    "else:\n",
    "    nullpunkt1 = (-b + math.sqrt(b ** 2 - 4 * a * c))/(2 * a)\n",
    "    nullpunkt2 = (-b - math.sqrt(b ** 2 - 4 * a * c))/(2 * a)\n",
    "    print(\"Det første nullpunktet er \" + str(nullpunkt1))\n",
    "    print(\"Det andre nullpunktet er \" + str(nullpunkt2))"
   ]
  }
 ],
 "metadata": {
  "kernelspec": {
   "display_name": "Python 3",
   "language": "python",
   "name": "python3"
  },
  "language_info": {
   "codemirror_mode": {
    "name": "ipython",
    "version": 3
   },
   "file_extension": ".py",
   "mimetype": "text/x-python",
   "name": "python",
   "nbconvert_exporter": "python",
   "pygments_lexer": "ipython3",
   "version": "3.6.3"
  }
 },
 "nbformat": 4,
 "nbformat_minor": 2
}

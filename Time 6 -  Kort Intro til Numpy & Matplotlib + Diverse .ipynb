{
 "cells": [
  {
   "cell_type": "markdown",
   "metadata": {},
   "source": [
    "## Importering av moduler"
   ]
  },
  {
   "cell_type": "markdown",
   "metadata": {},
   "source": [
    "Ofte trenger vi å importere eksterne moduler (biblioteker) slik at vi kan benytte oss av deres funksjoner."
   ]
  },
  {
   "cell_type": "code",
   "execution_count": 1,
   "metadata": {},
   "outputs": [
    {
     "data": {
      "text/plain": [
       "3.0"
      ]
     },
     "execution_count": 1,
     "metadata": {},
     "output_type": "execute_result"
    }
   ],
   "source": [
    "# Vanlig importering\n",
    "\n",
    "import math\n",
    "\n",
    "math.sqrt(9)"
   ]
  },
  {
   "cell_type": "code",
   "execution_count": 2,
   "metadata": {},
   "outputs": [
    {
     "data": {
      "text/plain": [
       "3.0"
      ]
     },
     "execution_count": 2,
     "metadata": {},
     "output_type": "execute_result"
    }
   ],
   "source": [
    "# Alias\n",
    "\n",
    "# Vi kan gi math-biblioteket aliaset m slik at det blir kortere å skrive.\n",
    "import math as m\n",
    "\n",
    "m.sqrt(9)"
   ]
  },
  {
   "cell_type": "code",
   "execution_count": 3,
   "metadata": {},
   "outputs": [
    {
     "data": {
      "text/plain": [
       "-0.9111302618846769"
      ]
     },
     "execution_count": 3,
     "metadata": {},
     "output_type": "execute_result"
    }
   ],
   "source": [
    "# From\n",
    "\n",
    "# Vi kan bruke from-nøkkelordet til å importere spesifikke funksjoner.\n",
    "from math import sqrt, cos\n",
    "\n",
    "sqrt(9)\n",
    "cos(9)"
   ]
  },
  {
   "cell_type": "code",
   "execution_count": 4,
   "metadata": {},
   "outputs": [
    {
     "data": {
      "text/plain": [
       "0.41211848524175659"
      ]
     },
     "execution_count": 4,
     "metadata": {},
     "output_type": "execute_result"
    }
   ],
   "source": [
    "# Widecard\n",
    "\n",
    "# Vi kan bruke wildcard symbolet * til å importere alle funksjonene fra et gitt bibliotek.\n",
    "# Dette er IKKE annbefalt.\n",
    "from math import *\n",
    "from numpy import *\n",
    "\n",
    "sqrt(9)\n",
    "cos(9)\n",
    "sin(9)"
   ]
  },
  {
   "cell_type": "markdown",
   "metadata": {},
   "source": [
    "## F-strenger"
   ]
  },
  {
   "cell_type": "code",
   "execution_count": 5,
   "metadata": {},
   "outputs": [
    {
     "name": "stdout",
     "output_type": "stream",
     "text": [
      "Du skylder meg 10kr\n"
     ]
    }
   ],
   "source": [
    "# Vanlig måte\n",
    "total = 5 + 5\n",
    "bekjed = \"Du skylder meg \" + str(total) + \"kr\"\n",
    "print(bekjed)"
   ]
  },
  {
   "cell_type": "code",
   "execution_count": 6,
   "metadata": {},
   "outputs": [
    {
     "name": "stdout",
     "output_type": "stream",
     "text": [
      "Du skylder med 10kr\n"
     ]
    }
   ],
   "source": [
    "# Med F-strenger\n",
    "bekjed = f\"Du skylder med {5 + 5}kr\"\n",
    "print(bekjed)"
   ]
  },
  {
   "cell_type": "code",
   "execution_count": 9,
   "metadata": {},
   "outputs": [
    {
     "name": "stdout",
     "output_type": "stream",
     "text": [
      "Hei. Skriv inn antall tommer:15\n",
      "Dette er 38.1 i cm.\n"
     ]
    }
   ],
   "source": [
    "# Tar inn tommer fra brukeren.\n",
    "anntall_tommer = float(input(\"Hei. Skriv inn antall tommer:\"))\n",
    "\n",
    "#  Konverterer til cm.\n",
    "antall_cm = round(anntall_tommer/0.3937, 3)\n",
    "\n",
    "# Skriver ut resultatet i cm.\n",
    "print(f\"Dette er {antall_cm} i cm.\")"
   ]
  },
  {
   "cell_type": "markdown",
   "metadata": {},
   "source": [
    "## List Comprehensions"
   ]
  },
  {
   "cell_type": "code",
   "execution_count": 16,
   "metadata": {},
   "outputs": [
    {
     "name": "stdout",
     "output_type": "stream",
     "text": [
      "[1, 8, 27, 64, 125, 216, 343, 512, 729, 1000]\n"
     ]
    }
   ],
   "source": [
    "# Lage en liste med tallene [1, 4, 9, 16, 25, ..., 100]\n",
    "\n",
    "# Kan gjøre det med en for-løkke og append-metoden.\n",
    "kvadrat_tall = []\n",
    "for tall in range(1, 11):\n",
    "    kvadrat_tall.append(tall ** 3)\n",
    "    \n",
    "print(kvadrat_tall)"
   ]
  },
  {
   "cell_type": "code",
   "execution_count": 18,
   "metadata": {},
   "outputs": [
    {
     "name": "stdout",
     "output_type": "stream",
     "text": [
      "[1, 8, 27, 64, 125, 216, 343, 512, 729, 1000]\n"
     ]
    }
   ],
   "source": [
    "# Med list comprehension er det mye raskere.\n",
    "\n",
    "kvadrat_tall = [tall ** 3 for tall in range(1, 11)]\n",
    "\n",
    "print(kvadrat_tall)"
   ]
  },
  {
   "cell_type": "code",
   "execution_count": 1,
   "metadata": {},
   "outputs": [
    {
     "name": "stdout",
     "output_type": "stream",
     "text": [
      "[0.71, 0.93, 0.38, 0.24, 0.98]\n"
     ]
    }
   ],
   "source": [
    "# Gjøre om fra poengsum til prosent\n",
    "poengsummer = [32, 42, 17, 11, 44] # mellom 0 og 45\n",
    "\n",
    "prosent = [round(num / 45, 2) for num in poengsummer]\n",
    "\n",
    "print(prosent)"
   ]
  },
  {
   "cell_type": "markdown",
   "metadata": {},
   "source": [
    "## Numpy"
   ]
  },
  {
   "cell_type": "markdown",
   "metadata": {},
   "source": [
    "Numpy er et eksternt bibliotek som vi kan importere for å hjelpe oss med utregninger angående vektorer og matriser."
   ]
  },
  {
   "cell_type": "code",
   "execution_count": 3,
   "metadata": {},
   "outputs": [
    {
     "name": "stdout",
     "output_type": "stream",
     "text": [
      "[1, 2, 3, 4, 2, 0]\n",
      "[1, 2, 3, 1, 2, 3]\n"
     ]
    }
   ],
   "source": [
    "liste1 = [1, 2, 3]\n",
    "liste2 = [4, 2, 0]\n",
    "\n",
    "print(liste1 + liste2) # Er ikke lik [5, 4, 3]\n",
    "\n",
    "print(2 * liste1) # Er ikke lik [2, 4, 6]"
   ]
  },
  {
   "cell_type": "code",
   "execution_count": 4,
   "metadata": {},
   "outputs": [
    {
     "name": "stdout",
     "output_type": "stream",
     "text": [
      "[5 4 3]\n",
      "[2 4 6]\n",
      "[[ 2  5  6]\n",
      " [ 8  4 12]\n",
      " [14 15 18]]\n"
     ]
    }
   ],
   "source": [
    "#Importerer numpy med aliaset np.\n",
    "import numpy as np\n",
    "\n",
    "# Lager to Numpy-lister\n",
    "superliste1 = np.array([1, 2, 3])\n",
    "superliste2 = np.array([4, 2, 0])\n",
    "\n",
    "#Her fungerer alt bedre.\n",
    "print(superliste1 + superliste2)\n",
    "print(2 * superliste1)"
   ]
  },
  {
   "cell_type": "code",
   "execution_count": 5,
   "metadata": {},
   "outputs": [
    {
     "name": "stdout",
     "output_type": "stream",
     "text": [
      "[[ 2  5  6]\n",
      " [ 8  4 12]\n",
      " [14 15 18]]\n"
     ]
    }
   ],
   "source": [
    "# Lager to matriser og adderer dem\n",
    "matrise1 = np.array([[1, 2, 3], [4, 5, 6], [7, 8 , 9]])\n",
    "matrise2 = np.array([[1, 3, 3], [4, -1, 6], [7, 7 , 9]])\n",
    "\n",
    "print(matrise1 + matrise2)"
   ]
  },
  {
   "cell_type": "markdown",
   "metadata": {},
   "source": [
    "## Matplotlib"
   ]
  },
  {
   "cell_type": "markdown",
   "metadata": {},
   "source": [
    "Matplotlib er et annet eksternt Python bibliotek som brukes til plotting."
   ]
  },
  {
   "cell_type": "code",
   "execution_count": 6,
   "metadata": {},
   "outputs": [
    {
     "data": {
      "image/png": "[encoded data removed]",
      "text/plain": [
       "<matplotlib.figure.Figure at 0x200dbb47748>"
      ]
     },
     "metadata": {},
     "output_type": "display_data"
    }
   ],
   "source": [
    "import matplotlib.pyplot as plt\n",
    "\n",
    "# Lage grafen til f(x) = x^2\n",
    "\n",
    "xverdier = range(-100, 101)\n",
    "yverdier = [tall ** 2 for tall in range(-100, 101)]\n",
    "\n",
    "plt.plot(xverdier, yverdier)\n",
    "plt.show()"
   ]
  }
 ],
 "metadata": {
  "kernelspec": {
   "display_name": "Python 3",
   "language": "python",
   "name": "python3"
  },
  "language_info": {
   "codemirror_mode": {
    "name": "ipython",
    "version": 3
   },
   "file_extension": ".py",
   "mimetype": "text/x-python",
   "name": "python",
   "nbconvert_exporter": "python",
   "pygments_lexer": "ipython3",
   "version": "3.6.3"
  }
 },
 "nbformat": 4,
 "nbformat_minor": 2
}

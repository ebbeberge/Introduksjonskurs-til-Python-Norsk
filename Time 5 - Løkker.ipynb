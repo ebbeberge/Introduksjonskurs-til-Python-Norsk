{
 "cells": [
  {
   "cell_type": "markdown",
   "metadata": {},
   "source": [
    "## Løkker"
   ]
  },
  {
   "cell_type": "markdown",
   "metadata": {},
   "source": [
    "Løkker er måter å gjenta informasjon på. Vi skal se på både for-løkken (som gjentar noe en bestemt mengde ganger), og while-løkker (som gjentar noe til en kondisjon er møtt)."
   ]
  },
  {
   "cell_type": "markdown",
   "metadata": {},
   "source": [
    "## For-løkker"
   ]
  },
  {
   "cell_type": "code",
   "execution_count": 10,
   "metadata": {
    "scrolled": true
   },
   "outputs": [
    {
     "name": "stdout",
     "output_type": "stream",
     "text": [
      "1\n",
      "2\n",
      "3\n",
      "4\n",
      "5\n",
      "7\n",
      "8\n",
      "9\n",
      "10\n",
      "11\n"
     ]
    }
   ],
   "source": [
    "print(1)\n",
    "print(2)\n",
    "print(3)\n",
    "print(4)\n",
    "print(5)\n",
    "\n",
    "# Kan vi gjøre dette enklere?\n",
    "\n",
    "for num in range(7, 12):\n",
    "    print(num)"
   ]
  },
  {
   "cell_type": "code",
   "execution_count": 13,
   "metadata": {},
   "outputs": [
    {
     "name": "stdout",
     "output_type": "stream",
     "text": [
      "1\n",
      "4\n",
      "9\n",
      "16\n",
      "25\n",
      "36\n",
      "49\n",
      "64\n",
      "81\n"
     ]
    }
   ],
   "source": [
    "# range er en innbygt python funksjon\n",
    "# oppbevarer tallene fra 1 (inklusivt) til 6 (ekskulsivt)\n",
    "\n",
    "for tall in range(1, 10):\n",
    "    print(tall ** 2)"
   ]
  },
  {
   "cell_type": "markdown",
   "metadata": {},
   "source": [
    "## Eksempel: Fibonacci tallene med for-løkker"
   ]
  },
  {
   "cell_type": "code",
   "execution_count": 1,
   "metadata": {},
   "outputs": [
    {
     "name": "stdout",
     "output_type": "stream",
     "text": [
      "[1, 1, 2, 3, 5, 8, 13, 21, 34, 55, 89, 144]\n"
     ]
    }
   ],
   "source": [
    "# [1, 1, 2, 3, 5, 8, ...] <-- Fibonacci tallene.\n",
    "\n",
    "#PSUEDOKODE\n",
    "# Lage en funksjon som tar inn [1, 1] og setter inn neste Fibonacci tallet. \n",
    "\n",
    "def lage_de_n_neste_fibonacci_tall(n=10):\n",
    "    begynnelse = [1, 1]\n",
    "    for tall in range(1, n + 1):\n",
    "        begynnelse.append(begynnelse[-1] + begynnelse[-2]) \n",
    "    return begynnelse\n",
    "\n",
    "print(lage_de_n_neste_fibonacci_tall())\n"
   ]
  },
  {
   "cell_type": "markdown",
   "metadata": {},
   "source": [
    "## Itererbare Objekter"
   ]
  },
  {
   "cell_type": "markdown",
   "metadata": {},
   "source": [
    "Vi kan bruke andre ting en <i>range</i> funksjonen sammen med løkker. Så lenge det vi bruker det med er et itererbart objekt, så går det fint å bruke en for-løkke."
   ]
  },
  {
   "cell_type": "code",
   "execution_count": 32,
   "metadata": {},
   "outputs": [
    {
     "name": "stdout",
     "output_type": "stream",
     "text": [
      "4\n",
      "49\n",
      "289\n",
      "9\n"
     ]
    }
   ],
   "source": [
    "liste = [2, 7, 17, 3]\n",
    "\n",
    "# Bruker en for-løkke med en liste.\n",
    "for num in liste:\n",
    "    print(num ** 2)"
   ]
  },
  {
   "cell_type": "code",
   "execution_count": 34,
   "metadata": {},
   "outputs": [
    {
     "name": "stdout",
     "output_type": "stream",
     "text": [
      "H\n",
      "e\n",
      "i\n",
      "s\n",
      "a\n",
      "n\n",
      "n\n"
     ]
    }
   ],
   "source": [
    "bekjed = \"Heisann\"\n",
    "\n",
    "# Bruker en for-løkke med en streng.\n",
    "for bokstav in bekjed:\n",
    "    print(bokstav)"
   ]
  },
  {
   "cell_type": "code",
   "execution_count": 2,
   "metadata": {},
   "outputs": [],
   "source": [
    "# for item in True:\n",
    "#    print(item)\n",
    "\n",
    "# Dette vil ikke gå, fordi True ikke er et itererbart objekt."
   ]
  },
  {
   "cell_type": "markdown",
   "metadata": {},
   "source": [
    "## Eksempel: Gjennomsnitt"
   ]
  },
  {
   "cell_type": "code",
   "execution_count": 42,
   "metadata": {},
   "outputs": [
    {
     "data": {
      "text/plain": [
       "66.3"
      ]
     },
     "execution_count": 42,
     "metadata": {},
     "output_type": "execute_result"
    }
   ],
   "source": [
    "def gjennomsnitt(liste):\n",
    "    \"\"\"Regner ut gjennomsnitt til en liste.\"\"\"\n",
    "    total = 0\n",
    "    for tall in liste:\n",
    "        total += tall\n",
    "    return round(total/len(liste), 1)\n",
    "    \n",
    "\n",
    "liste_med_karakterer = [86, 55, 43, 78, 99, 27, 76]\n",
    "\n",
    "gjennomsnitt(liste_med_karakterer)"
   ]
  },
  {
   "cell_type": "markdown",
   "metadata": {},
   "source": [
    "## While-løkker"
   ]
  },
  {
   "cell_type": "code",
   "execution_count": 4,
   "metadata": {},
   "outputs": [
    {
     "name": "stdout",
     "output_type": "stream",
     "text": [
      "1\n",
      "2\n",
      "3\n",
      "4\n"
     ]
    }
   ],
   "source": [
    "i = 1\n",
    "while (i <= 4):\n",
    "    print(i)\n",
    "    i = i + 1"
   ]
  },
  {
   "cell_type": "markdown",
   "metadata": {},
   "source": [
    "## Eksempel: Passord"
   ]
  },
  {
   "cell_type": "code",
   "execution_count": 5,
   "metadata": {},
   "outputs": [
    {
     "name": "stdout",
     "output_type": "stream",
     "text": [
      "Skriv inn et bra passord (mer enn 8 bokstaver) Heisann1\n",
      "Det var et bra passord\n"
     ]
    }
   ],
   "source": [
    "# Skjekker om et passord som brukeren skriver inn er sterkt nok.\n",
    "\n",
    "passord_forslag = \"\"\n",
    "\n",
    "while (len(passord_forslag) < 8):\n",
    "    passord_forslag = input(\"Skriv inn et bra passord (mer enn 8 bokstaver) \")\n",
    "    \n",
    "print(\"Det var et bra passord\")"
   ]
  },
  {
   "cell_type": "markdown",
   "metadata": {},
   "source": [
    "## Eksempel: Fibonacci tallene med while-løkker"
   ]
  },
  {
   "cell_type": "code",
   "execution_count": 6,
   "metadata": {},
   "outputs": [
    {
     "name": "stdout",
     "output_type": "stream",
     "text": [
      "10946\n"
     ]
    }
   ],
   "source": [
    "# [1, 1, 2, 3, 5, 8, ...] <-- Fibonacci tallene.\n",
    "\n",
    "#PSUEDOKODE\n",
    "# Lage en funksjon som tar inn [1, 1] og setter inn neste Fibonacci tallet. \n",
    "\n",
    "def fibonacci_tall_opp_til_10000():\n",
    "    siste_tall = 1\n",
    "    begynnelse = [1, 1]\n",
    "    while (siste_tall < 10000):\n",
    "        begynnelse.append(begynnelse[-1] + begynnelse[-2]) \n",
    "        siste_tall = begynnelse[-1]\n",
    "    return begynnelse[-1]\n",
    "\n",
    "print(fibonacci_tall_opp_til_10000())"
   ]
  }
 ],
 "metadata": {
  "kernelspec": {
   "display_name": "Python 3",
   "language": "python",
   "name": "python3"
  },
  "language_info": {
   "codemirror_mode": {
    "name": "ipython",
    "version": 3
   },
   "file_extension": ".py",
   "mimetype": "text/x-python",
   "name": "python",
   "nbconvert_exporter": "python",
   "pygments_lexer": "ipython3",
   "version": "3.6.3"
  }
 },
 "nbformat": 4,
 "nbformat_minor": 2
}

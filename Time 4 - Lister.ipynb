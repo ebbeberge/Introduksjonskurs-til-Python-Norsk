{
 "cells": [
  {
   "cell_type": "markdown",
   "metadata": {},
   "source": [
    "## Laging av lister"
   ]
  },
  {
   "cell_type": "code",
   "execution_count": 2,
   "metadata": {
    "scrolled": true
   },
   "outputs": [
    {
     "name": "stdout",
     "output_type": "stream",
     "text": [
      "[2, 4, 8, 16, 32, 64, 128, 256, 512, 1024]\n"
     ]
    }
   ],
   "source": [
    "# Sett at vi har alle toer-potensene fra 2^1 = 2 til 2^10 = 1024\n",
    "første = 2\n",
    "andre = 2 ** 2\n",
    "tredje = 2 ** 3 # <-- Dette blir for slitsomt\n",
    "\n",
    "# Kan heller lage en liste.\n",
    "liste_med_toerpotenser = [2, 2 ** 2, 2 ** 3, 2 ** 4, 2 ** 5, 2 ** 6, 2 ** 7, 2 ** 8, 2 ** 9, 2 ** 10]\n",
    "\n",
    "# En liste kan ha forskjellige datatyper.\n",
    "informasjon = [\"Eirik Berge\", 25, True]\n",
    "\n",
    "len(informasjon)\n",
    "print(liste_med_toerpotenser)"
   ]
  },
  {
   "cell_type": "markdown",
   "metadata": {},
   "source": [
    "## Indeksering"
   ]
  },
  {
   "cell_type": "markdown",
   "metadata": {},
   "source": [
    "Vi har tilgang til elementene i en liste ved å bruke <i>indeksering</i>."
   ]
  },
  {
   "cell_type": "code",
   "execution_count": 16,
   "metadata": {},
   "outputs": [
    {
     "name": "stdout",
     "output_type": "stream",
     "text": [
      "64\n"
     ]
    }
   ],
   "source": [
    "informasjon[0] # <-- Gir ut det første elementet i informasjon, altså \"Eirik Berge\".\n",
    "to_opphøyd_i_6 = liste_med_toerpotenser[5]\n",
    "print(to_opphøyd_i_6)"
   ]
  },
  {
   "cell_type": "code",
   "execution_count": 20,
   "metadata": {},
   "outputs": [
    {
     "name": "stdout",
     "output_type": "stream",
     "text": [
      "['Eirik Berge', 26, True]\n"
     ]
    }
   ],
   "source": [
    "# Kan også sette nye elementer i en liste.\n",
    "informasjon[1] = 26\n",
    "print(informasjon)"
   ]
  },
  {
   "cell_type": "code",
   "execution_count": 3,
   "metadata": {},
   "outputs": [
    {
     "name": "stdout",
     "output_type": "stream",
     "text": [
      "Eirik Berge\n",
      "1024\n"
     ]
    }
   ],
   "source": [
    "# Negativ indeksering - Kan raskt nå elementene på slutten av listen.\n",
    "print(informasjon[-3])\n",
    "print(liste_med_toerpotenser[-1])"
   ]
  },
  {
   "cell_type": "markdown",
   "metadata": {},
   "source": [
    "## Eksempel: Andregradspolynom"
   ]
  },
  {
   "cell_type": "code",
   "execution_count": 39,
   "metadata": {},
   "outputs": [
    {
     "name": "stdout",
     "output_type": "stream",
     "text": [
      "Skriv inn a koeffisienten: 1\n",
      "Skriv inn b koeffisienten: 5\n",
      "Skriv inn c koeffisienten: 6\n",
      "2\n",
      "6.0\n"
     ]
    }
   ],
   "source": [
    "# Finner nullpunkt til et andregradspolynom:\n",
    "import math\n",
    "\n",
    "def nullpunkt_av_andregrad(a, b, c):\n",
    "    if (b ** 2 - 4 * a * c < 0):\n",
    "        return []\n",
    "    elif (b ** 2 - 4 * a * c == 0):\n",
    "        eneste_nullpunkt = (-b)/(2 * a)\n",
    "        return [eneste_nullpunkt]\n",
    "    else:\n",
    "        nullpunkt1 = (-b + math.sqrt(b ** 2 - 4 * a * c))/(2 * a)\n",
    "        nullpunkt2 = (-b - math.sqrt(b ** 2 - 4 * a * c))/(2 * a)\n",
    "        return [nullpunkt1, nullpunkt2]\n",
    "    \n",
    "# Tar inn koeffisientene\n",
    "a = float(input(\"Skriv inn a koeffisienten: \"))\n",
    "b = float(input(\"Skriv inn b koeffisienten: \"))\n",
    "c = float(input(\"Skriv inn c koeffisienten: \"))\n",
    "\n",
    "nullpunkter = nullpunkt_av_andregrad(a, b, c)\n",
    "print(len(nullpunkter))\n",
    "\n",
    "if (len(nullpunkter) == 2):\n",
    "    print(nullpunkter[0] * nullpunkter[1])"
   ]
  },
  {
   "cell_type": "markdown",
   "metadata": {},
   "source": [
    "## Trekke fra og legge til elementer"
   ]
  },
  {
   "cell_type": "markdown",
   "metadata": {},
   "source": [
    "Vi kan bruke <i>append</i> funksjonen til å legge til elementer på slutten av en liste. Vi kan bruke <i>pop></i> funksjonen til å trekke fra elementer fra slutten av en liste."
   ]
  },
  {
   "cell_type": "code",
   "execution_count": 53,
   "metadata": {},
   "outputs": [
    {
     "data": {
      "text/plain": [
       "[2, 4, 8, 16, 32, 64, 128, 256, 512, 1024, 2048]"
      ]
     },
     "execution_count": 53,
     "metadata": {},
     "output_type": "execute_result"
    }
   ],
   "source": [
    "# Legger til 2 ** 11 på slutten av listen.\n",
    "liste_med_toerpotenser.append(2 ** 11)\n",
    "liste_med_toerpotenser\n",
    "\n",
    "# Trekker fra det siste elementet i listen.\n",
    "liste_med_toerpotenser.pop()"
   ]
  },
  {
   "cell_type": "markdown",
   "metadata": {},
   "source": [
    "## Funksjoner vs. metoder"
   ]
  },
  {
   "cell_type": "code",
   "execution_count": 59,
   "metadata": {},
   "outputs": [
    {
     "name": "stdout",
     "output_type": "stream",
     "text": [
      "7\n",
      "3\n"
     ]
    },
    {
     "data": {
      "text/plain": [
       "1024"
      ]
     },
     "execution_count": 59,
     "metadata": {},
     "output_type": "execute_result"
    }
   ],
   "source": [
    "# Noen funksjoner, feks. len(), kan virke på flere forskjellige datatyper.\n",
    "print(len(\"Heisann\"))\n",
    "print(len([1, 2, 3]))\n",
    "\n",
    "# Noen funksjoner, feks. append, kan bare virke på lister.\n",
    "# Kalles også metoder.\n",
    "liste_med_toerpotenser.pop()"
   ]
  },
  {
   "cell_type": "markdown",
   "metadata": {},
   "source": [
    "## Eksempel: Fibonacci tallene"
   ]
  },
  {
   "cell_type": "code",
   "execution_count": 6,
   "metadata": {},
   "outputs": [
    {
     "name": "stdout",
     "output_type": "stream",
     "text": [
      "[1, 1, 2]\n"
     ]
    }
   ],
   "source": [
    "# [1, 1, 2, 3, 5, 8, ...] <-- Fibonacci tallene.\n",
    "\n",
    "#PSUEDOKODE\n",
    "# Lage en funksjon som tar inn [1, 1] og setter inn det neste Fibonacci tallet. \n",
    "\n",
    "def lage_neste_fibonacci_tall(liste):\n",
    "    liste.append(liste[-1] + liste[-2])\n",
    "    return liste\n",
    "\n",
    "begynnelse = [1, 1]\n",
    "\n",
    "print(lage_neste_fibonacci_tall(begynnelse))"
   ]
  },
  {
   "cell_type": "markdown",
   "metadata": {},
   "source": [
    "## 2D lister"
   ]
  },
  {
   "cell_type": "markdown",
   "metadata": {},
   "source": [
    "En 2D-liste "
   ]
  },
  {
   "cell_type": "code",
   "execution_count": 78,
   "metadata": {},
   "outputs": [
    {
     "name": "stdout",
     "output_type": "stream",
     "text": [
      "[[1, 2, 3], [4, 5, 6], [7, 8, 9]]\n",
      "[[1, 2, 3], [4, 5, 6], [7, 8, 17]]\n"
     ]
    }
   ],
   "source": [
    "# 1 2 3\n",
    "# 4 5 6\n",
    "# 7 8 9\n",
    "\n",
    "to_dim_liste = [[1, 2, 3], [4, 5, 6], [7, 8, 9]]\n",
    "print(to_dim_liste)\n",
    "\n",
    "(to_dim_liste[1])[2]\n",
    "\n",
    "(to_dim_liste[2])[2] = 17\n",
    "print(to_dim_liste)"
   ]
  },
  {
   "cell_type": "code",
   "execution_count": 84,
   "metadata": {},
   "outputs": [
    {
     "name": "stdout",
     "output_type": "stream",
     "text": [
      "[2, 2, 3, 3, 19, 41]\n"
     ]
    }
   ],
   "source": [
    "liste = [2, 19, 41, 3, 3, 2]\n",
    "liste.sort()\n",
    "print(liste)"
   ]
  },
  {
   "cell_type": "markdown",
   "metadata": {},
   "source": [
    "## Andre datatyper"
   ]
  },
  {
   "cell_type": "code",
   "execution_count": 88,
   "metadata": {},
   "outputs": [
    {
     "name": "stdout",
     "output_type": "stream",
     "text": [
      "(2, 5, 17)\n"
     ]
    },
    {
     "ename": "TypeError",
     "evalue": "'tuple' object does not support item assignment",
     "output_type": "error",
     "traceback": [
      "\u001b[1;31m---------------------------------------------------------------------------\u001b[0m",
      "\u001b[1;31mTypeError\u001b[0m                                 Traceback (most recent call last)",
      "\u001b[1;32m<ipython-input-88-4cb5547f84d2>\u001b[0m in \u001b[0;36m<module>\u001b[1;34m()\u001b[0m\n\u001b[0;32m      1\u001b[0m \u001b[0mnesten_en_liste\u001b[0m \u001b[1;33m=\u001b[0m \u001b[1;33m(\u001b[0m\u001b[1;36m2\u001b[0m\u001b[1;33m,\u001b[0m \u001b[1;36m5\u001b[0m\u001b[1;33m,\u001b[0m \u001b[1;36m17\u001b[0m\u001b[1;33m)\u001b[0m \u001b[1;31m# <-- Tuple\u001b[0m\u001b[1;33m\u001b[0m\u001b[0m\n\u001b[0;32m      2\u001b[0m \u001b[0mprint\u001b[0m\u001b[1;33m(\u001b[0m\u001b[0mnesten_en_liste\u001b[0m\u001b[1;33m)\u001b[0m\u001b[1;33m\u001b[0m\u001b[0m\n\u001b[1;32m----> 3\u001b[1;33m \u001b[0mnesten_en_liste\u001b[0m\u001b[1;33m[\u001b[0m\u001b[1;36m2\u001b[0m\u001b[1;33m]\u001b[0m \u001b[1;33m=\u001b[0m \u001b[1;36m401\u001b[0m\u001b[1;33m\u001b[0m\u001b[0m\n\u001b[0m",
      "\u001b[1;31mTypeError\u001b[0m: 'tuple' object does not support item assignment"
     ]
    }
   ],
   "source": [
    "nesten_en_liste = (2, 5, 17) # <-- Tuple (Liste som ikke er modifiserbar)\n",
    "print(nesten_en_liste)\n",
    "nesten_en_liste[2] = 401\n",
    "\n",
    "# Dictionaries\n",
    "# Set"
   ]
  }
 ],
 "metadata": {
  "kernelspec": {
   "display_name": "Python 3",
   "language": "python",
   "name": "python3"
  },
  "language_info": {
   "codemirror_mode": {
    "name": "ipython",
    "version": 3
   },
   "file_extension": ".py",
   "mimetype": "text/x-python",
   "name": "python",
   "nbconvert_exporter": "python",
   "pygments_lexer": "ipython3",
   "version": "3.6.3"
  }
 },
 "nbformat": 4,
 "nbformat_minor": 2
}

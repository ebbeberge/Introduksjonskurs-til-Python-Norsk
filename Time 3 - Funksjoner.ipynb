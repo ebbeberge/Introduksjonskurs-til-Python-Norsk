{
 "cells": [
  {
   "cell_type": "markdown",
   "metadata": {},
   "source": [
    "## Python sine innebygde funksjoner"
   ]
  },
  {
   "cell_type": "code",
   "execution_count": 1,
   "metadata": {},
   "outputs": [
    {
     "data": {
      "text/plain": [
       "7"
      ]
     },
     "execution_count": 1,
     "metadata": {},
     "output_type": "execute_result"
    }
   ],
   "source": [
    "# Python har mange innebygde funksjoner. Noen funksjoner tar inn tall, mens andre tar inn f.eks. strenger.\n",
    "round(2.8080, 2)\n",
    "len(\"Heisann\")"
   ]
  },
  {
   "cell_type": "code",
   "execution_count": 1,
   "metadata": {},
   "outputs": [
    {
     "name": "stdout",
     "output_type": "stream",
     "text": [
      "2.81\n",
      "Heisann\n",
      "None\n"
     ]
    }
   ],
   "source": [
    "#Hvorfor oppfører funksjonene under seg annerledes? For å forstå dette skal vi se mer på hvordan funksjoner lages i Python.\n",
    "\n",
    "avrundet_tall = round(2.8080, 2)\n",
    "print(avrundet_tall)\n",
    "\n",
    "utprintet_verdi = print(\"Heisann\")\n",
    "print(utprintet_verdi)"
   ]
  },
  {
   "cell_type": "markdown",
   "metadata": {},
   "source": [
    "##  Strukturen på en funksjon"
   ]
  },
  {
   "cell_type": "markdown",
   "metadata": {},
   "source": [
    "Funksjoner er biter med kode som man kan kjøre flere ganger, med forskjellig input."
   ]
  },
  {
   "cell_type": "code",
   "execution_count": 5,
   "metadata": {},
   "outputs": [
    {
     "name": "stdout",
     "output_type": "stream",
     "text": [
      "19\n"
     ]
    }
   ],
   "source": [
    "# navn_på_funksjon(num1, num2):\n",
    "    # Hva som skal gjøres\n",
    "\n",
    "def addere(num1, num2):\n",
    "    return (num1 + num2)\n",
    "    \n",
    "tall = addere(7,12)\n",
    "print(tall)"
   ]
  },
  {
   "cell_type": "code",
   "execution_count": 6,
   "metadata": {},
   "outputs": [
    {
     "name": "stdout",
     "output_type": "stream",
     "text": [
      "6\n"
     ]
    }
   ],
   "source": [
    "def multiplisere(tall1, tall2):\n",
    "    return (tall1 * tall2)\n",
    "\n",
    "multipliserte_tall = multiplisere(2, 3)\n",
    "print(multipliserte_tall)"
   ]
  },
  {
   "cell_type": "code",
   "execution_count": 7,
   "metadata": {
    "collapsed": true
   },
   "outputs": [],
   "source": [
    "import math\n",
    "\n",
    "def hypotenus(katet1, katet2):\n",
    "    hypotenus_til_trekant = round(math.sqrt(katet1 ** 2 + katet2 ** 2), 3)\n",
    "    return hypotenus_til_trekant\n",
    "\n",
    "# Kan kalle funksjonen flere ganger med forskjellige argumenter hver gang.\n",
    "svar1 = hypotenus(6, 12)\n",
    "svar2 = hypotenus(5, 12)\n",
    "svar3 = hypotenus(6, 11)"
   ]
  },
  {
   "cell_type": "code",
   "execution_count": 8,
   "metadata": {
    "collapsed": true
   },
   "outputs": [],
   "source": [
    "# DRY Prinsippet (Don't Repeat Yourself) -- Funksjoner hjelper oss med å ikke repetere kode.\n",
    "# Abstraksjon - Vi trenger ikke å vite alt inne i en funksjon, bare hva den tar inn og hva den gir ut."
   ]
  },
  {
   "cell_type": "code",
   "execution_count": 9,
   "metadata": {},
   "outputs": [
    {
     "name": "stdout",
     "output_type": "stream",
     "text": [
      "Heisann EirikBerge\n"
     ]
    }
   ],
   "source": [
    "def skriv_ut_navnet_mitt(fornavn=\"kjære\", etternavn=\"kunde\"): # <-- Parametere\n",
    "    print(\"Heisann \" + fornavn + etternavn)\n",
    "    return fornavn\n",
    "\n",
    "mitt_navn = skriv_ut_navnet_mitt(\"Eirik\", \"Berge\") # <-- Argumenter"
   ]
  },
  {
   "cell_type": "markdown",
   "metadata": {},
   "source": [
    "### Eksempel: Maksimumfunksjon"
   ]
  },
  {
   "cell_type": "code",
   "execution_count": 10,
   "metadata": {},
   "outputs": [
    {
     "name": "stdout",
     "output_type": "stream",
     "text": [
      "2\n"
     ]
    }
   ],
   "source": [
    "def maximum(tall1, tall2=20):\n",
    "    \"\"\" Regner ut maksimum av to tall (andre argument er standarisert til 20) \"\"\" # <-- Dette er en dokumentstreng\n",
    "    if tall1 > tall2:\n",
    "        return tall1\n",
    "    return tall2\n",
    "    \n",
    "max_tall = maximum(1, 2)\n",
    "print(max_tall)"
   ]
  },
  {
   "cell_type": "markdown",
   "metadata": {},
   "source": [
    "Scope (synlighet) er hvor en variabel er synlig: Hvis en variabel er definert inni en funksjon, så har vi ikke tilgang til variabelen utenfor funksjonen. Men motsatt, hvis en variabel er definert utenfor en funksjon, så har vi fortsatt tilgang til variabelen inni funksjonen. "
   ]
  },
  {
   "cell_type": "markdown",
   "metadata": {},
   "source": [
    "## Eksempel: Andregradspolynom"
   ]
  },
  {
   "cell_type": "code",
   "execution_count": null,
   "metadata": {
    "collapsed": true
   },
   "outputs": [],
   "source": [
    "# Finner nullpunkt til et andregradspolynom:\n",
    "import math\n",
    "\n",
    "def nullpunkt_av_andregrad(a, b, c):\n",
    "    if (b ** 2 - 4 * a * c < 0):\n",
    "        print(\"Det er ingen reelle løsninger!\")\n",
    "    elif (b ** 2 - 4 * a * c == 0):\n",
    "        eneste_nullpunkt = (-b)/(2 * a)\n",
    "        print(\"Det eneste nullpunktet er \" + str(eneste_nullpunkt))\n",
    "        return eneste_nullpunkt\n",
    "    else:\n",
    "        nullpunkt1 = (-b + math.sqrt(b ** 2 - 4 * a * c))/(2 * a)\n",
    "        nullpunkt2 = (-b - math.sqrt(b ** 2 - 4 * a * c))/(2 * a)\n",
    "        print(\"Det første nullpunktet er \" + str(nullpunkt1))\n",
    "        print(\"Det andre nullpunktet er \" + str(nullpunkt2))\n",
    "        return [nullpunkt1, nullpunkt2]\n",
    "    \n",
    "# Tar inn koeffisientene\n",
    "a = float(input(\"Skriv inn a koeffisienten: \"))\n",
    "b = float(input(\"Skriv inn b koeffisienten: \"))\n",
    "c = float(input(\"Skriv inn c koeffisienten: \"))\n",
    "\n",
    "nullpunkt_av_andregrad(a, b, c)"
   ]
  }
 ],
 "metadata": {
  "kernelspec": {
   "display_name": "Python 3",
   "language": "python",
   "name": "python3"
  },
  "language_info": {
   "codemirror_mode": {
    "name": "ipython",
    "version": 3
   },
   "file_extension": ".py",
   "mimetype": "text/x-python",
   "name": "python",
   "nbconvert_exporter": "python",
   "pygments_lexer": "ipython3",
   "version": "3.6.3"
  }
 },
 "nbformat": 4,
 "nbformat_minor": 2
}

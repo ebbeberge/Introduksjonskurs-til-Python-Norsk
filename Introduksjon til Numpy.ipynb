{
 "cells": [
  {
   "cell_type": "markdown",
   "metadata": {},
   "source": [
    "## Lage vektorer og matriser"
   ]
  },
  {
   "cell_type": "code",
   "execution_count": 1,
   "metadata": {
    "collapsed": true
   },
   "outputs": [],
   "source": [
    "import numpy as np # Vi importer numpy-pakken med aliaset np"
   ]
  },
  {
   "cell_type": "code",
   "execution_count": 2,
   "metadata": {},
   "outputs": [],
   "source": [
    "# Lager først en liste og en 2D-liste\n",
    "vektor = [1, 2, 4]\n",
    "matrise = [[1, 2, 3], [4, 5, 6], [7, 8, 9]]\n",
    "\n",
    "# Lager to numpy-vektorer\n",
    "numpy_vektor1 = np.array(vektor)\n",
    "numpy_vektor2 = np.array([4, 5, 6])\n",
    "\n",
    "# Lager to numpy-matriser\n",
    "numpy_matrise1 = np.array(matrise)\n",
    "numpy_matrise2 = np.array([[2, 3, 4], [3, 4, 5], [4, 5, 6]])"
   ]
  },
  {
   "cell_type": "markdown",
   "metadata": {},
   "source": [
    "## Operasjoner på matriser"
   ]
  },
  {
   "cell_type": "code",
   "execution_count": 3,
   "metadata": {},
   "outputs": [
    {
     "data": {
      "text/plain": [
       "array([ 5,  7, 10])"
      ]
     },
     "execution_count": 3,
     "metadata": {},
     "output_type": "execute_result"
    }
   ],
   "source": [
    "numpy_vektor1 + numpy_vektor2 # Addisjon av to vektorer"
   ]
  },
  {
   "cell_type": "code",
   "execution_count": 4,
   "metadata": {},
   "outputs": [
    {
     "data": {
      "text/plain": [
       "array([[ 3,  5,  7],\n",
       "       [ 7,  9, 11],\n",
       "       [11, 13, 15]])"
      ]
     },
     "execution_count": 4,
     "metadata": {},
     "output_type": "execute_result"
    }
   ],
   "source": [
    "numpy_matrise1 + numpy_matrise2 # Addisjon av to matriser"
   ]
  },
  {
   "cell_type": "code",
   "execution_count": 5,
   "metadata": {},
   "outputs": [
    {
     "data": {
      "text/plain": [
       "array([[ 20,  26,  32],\n",
       "       [ 47,  62,  77],\n",
       "       [ 74,  98, 122]])"
      ]
     },
     "execution_count": 5,
     "metadata": {},
     "output_type": "execute_result"
    }
   ],
   "source": [
    "numpy_matrise1 @ numpy_matrise2 # Matrisemultiplikasjon av to matriser."
   ]
  },
  {
   "cell_type": "markdown",
   "metadata": {},
   "source": [
    "## Shape og uthenting av elementer"
   ]
  },
  {
   "cell_type": "code",
   "execution_count": 6,
   "metadata": {},
   "outputs": [
    {
     "name": "stdout",
     "output_type": "stream",
     "text": [
      "(3, 3)\n",
      "(3,)\n"
     ]
    }
   ],
   "source": [
    "print(numpy_matrise1.shape) # Finner formen (shape) til en matrise.\n",
    "print(numpy_vektor1.shape) # Finner formen (shape) til en vektor."
   ]
  },
  {
   "cell_type": "code",
   "execution_count": 7,
   "metadata": {},
   "outputs": [
    {
     "name": "stdout",
     "output_type": "stream",
     "text": [
      "2\n",
      "2\n"
     ]
    }
   ],
   "source": [
    "# Kan hente ut elementer fra matriser og vektorer.\n",
    "print(numpy_matrise1[0, 1])\n",
    "print(numpy_vektor1[1])"
   ]
  },
  {
   "cell_type": "code",
   "execution_count": 8,
   "metadata": {},
   "outputs": [
    {
     "name": "stdout",
     "output_type": "stream",
     "text": [
      "[[ 1 17  3]\n",
      " [ 4  5  6]\n",
      " [ 7  8  9]]\n"
     ]
    }
   ],
   "source": [
    "# Vi kan sette elementer i en matrise/vektor til nye verdier:\n",
    "numpy_matrise1[0, 1] = 17\n",
    "print(numpy_matrise1)"
   ]
  },
  {
   "cell_type": "markdown",
   "metadata": {},
   "source": [
    "## Spesielle matriser og vektorer"
   ]
  },
  {
   "cell_type": "code",
   "execution_count": 9,
   "metadata": {},
   "outputs": [
    {
     "name": "stdout",
     "output_type": "stream",
     "text": [
      "[[ 1.  0.  0.  0.  0.  0.  0.]\n",
      " [ 0.  1.  0.  0.  0.  0.  0.]\n",
      " [ 0.  0.  1.  0.  0.  0.  0.]\n",
      " [ 0.  0.  0.  1.  0.  0.  0.]\n",
      " [ 0.  0.  0.  0.  1.  0.  0.]\n",
      " [ 0.  0.  0.  0.  0.  1.  0.]\n",
      " [ 0.  0.  0.  0.  0.  0.  1.]]\n"
     ]
    }
   ],
   "source": [
    "# Vi kan lage identitetsmatrien med eye-metoden.\n",
    "identitetsmatrise = np.eye(7)\n",
    "print(identitetsmatrise)"
   ]
  },
  {
   "cell_type": "code",
   "execution_count": 10,
   "metadata": {},
   "outputs": [
    {
     "name": "stdout",
     "output_type": "stream",
     "text": [
      "[[ 0.  0.  0.  0.  0.]\n",
      " [ 0.  0.  0.  0.  0.]\n",
      " [ 0.  0.  0.  0.  0.]\n",
      " [ 0.  0.  0.  0.  0.]\n",
      " [ 0.  0.  0.  0.  0.]]\n"
     ]
    }
   ],
   "source": [
    "# Vi kan lage null-matrisen med zeros-metoden.\n",
    "nullmatrisen = np.zeros((5, 5))\n",
    "print(nullmatrisen)"
   ]
  },
  {
   "cell_type": "code",
   "execution_count": 11,
   "metadata": {},
   "outputs": [
    {
     "name": "stdout",
     "output_type": "stream",
     "text": [
      "[-5.         -4.8989899  -4.7979798  -4.6969697  -4.5959596  -4.49494949\n",
      " -4.39393939 -4.29292929 -4.19191919 -4.09090909 -3.98989899 -3.88888889\n",
      " -3.78787879 -3.68686869 -3.58585859 -3.48484848 -3.38383838 -3.28282828\n",
      " -3.18181818 -3.08080808 -2.97979798 -2.87878788 -2.77777778 -2.67676768\n",
      " -2.57575758 -2.47474747 -2.37373737 -2.27272727 -2.17171717 -2.07070707\n",
      " -1.96969697 -1.86868687 -1.76767677 -1.66666667 -1.56565657 -1.46464646\n",
      " -1.36363636 -1.26262626 -1.16161616 -1.06060606 -0.95959596 -0.85858586\n",
      " -0.75757576 -0.65656566 -0.55555556 -0.45454545 -0.35353535 -0.25252525\n",
      " -0.15151515 -0.05050505  0.05050505  0.15151515  0.25252525  0.35353535\n",
      "  0.45454545  0.55555556  0.65656566  0.75757576  0.85858586  0.95959596\n",
      "  1.06060606  1.16161616  1.26262626  1.36363636  1.46464646  1.56565657\n",
      "  1.66666667  1.76767677  1.86868687  1.96969697  2.07070707  2.17171717\n",
      "  2.27272727  2.37373737  2.47474747  2.57575758  2.67676768  2.77777778\n",
      "  2.87878788  2.97979798  3.08080808  3.18181818  3.28282828  3.38383838\n",
      "  3.48484848  3.58585859  3.68686869  3.78787879  3.88888889  3.98989899\n",
      "  4.09090909  4.19191919  4.29292929  4.39393939  4.49494949  4.5959596\n",
      "  4.6969697   4.7979798   4.8989899   5.        ]\n"
     ]
    }
   ],
   "source": [
    "# Vi kan generere 100 punkter mellom -5 og 5 med linspace-metoden.\n",
    "hundre_punkter = np.linspace(-5, 5, 100) \n",
    "print(hundre_punkter)"
   ]
  },
  {
   "cell_type": "code",
   "execution_count": 12,
   "metadata": {},
   "outputs": [
    {
     "name": "stdout",
     "output_type": "stream",
     "text": [
      "[ -5.00000000e+00  -4.90000000e+00  -4.80000000e+00  -4.70000000e+00\n",
      "  -4.60000000e+00  -4.50000000e+00  -4.40000000e+00  -4.30000000e+00\n",
      "  -4.20000000e+00  -4.10000000e+00  -4.00000000e+00  -3.90000000e+00\n",
      "  -3.80000000e+00  -3.70000000e+00  -3.60000000e+00  -3.50000000e+00\n",
      "  -3.40000000e+00  -3.30000000e+00  -3.20000000e+00  -3.10000000e+00\n",
      "  -3.00000000e+00  -2.90000000e+00  -2.80000000e+00  -2.70000000e+00\n",
      "  -2.60000000e+00  -2.50000000e+00  -2.40000000e+00  -2.30000000e+00\n",
      "  -2.20000000e+00  -2.10000000e+00  -2.00000000e+00  -1.90000000e+00\n",
      "  -1.80000000e+00  -1.70000000e+00  -1.60000000e+00  -1.50000000e+00\n",
      "  -1.40000000e+00  -1.30000000e+00  -1.20000000e+00  -1.10000000e+00\n",
      "  -1.00000000e+00  -9.00000000e-01  -8.00000000e-01  -7.00000000e-01\n",
      "  -6.00000000e-01  -5.00000000e-01  -4.00000000e-01  -3.00000000e-01\n",
      "  -2.00000000e-01  -1.00000000e-01  -1.77635684e-14   1.00000000e-01\n",
      "   2.00000000e-01   3.00000000e-01   4.00000000e-01   5.00000000e-01\n",
      "   6.00000000e-01   7.00000000e-01   8.00000000e-01   9.00000000e-01\n",
      "   1.00000000e+00   1.10000000e+00   1.20000000e+00   1.30000000e+00\n",
      "   1.40000000e+00   1.50000000e+00   1.60000000e+00   1.70000000e+00\n",
      "   1.80000000e+00   1.90000000e+00   2.00000000e+00   2.10000000e+00\n",
      "   2.20000000e+00   2.30000000e+00   2.40000000e+00   2.50000000e+00\n",
      "   2.60000000e+00   2.70000000e+00   2.80000000e+00   2.90000000e+00\n",
      "   3.00000000e+00   3.10000000e+00   3.20000000e+00   3.30000000e+00\n",
      "   3.40000000e+00   3.50000000e+00   3.60000000e+00   3.70000000e+00\n",
      "   3.80000000e+00   3.90000000e+00   4.00000000e+00   4.10000000e+00\n",
      "   4.20000000e+00   4.30000000e+00   4.40000000e+00   4.50000000e+00\n",
      "   4.60000000e+00   4.70000000e+00   4.80000000e+00   4.90000000e+00]\n"
     ]
    }
   ],
   "source": [
    "# Vi kan generere punkter mellom -5 og 5 med \"hopp\" på 0.1 med arange-metoden.\n",
    "mange_punkter = np.arange(-5, 5, 0.1)\n",
    "print(mange_punkter)"
   ]
  },
  {
   "cell_type": "markdown",
   "metadata": {},
   "source": [
    "## Løse ligningsett og determinant"
   ]
  },
  {
   "cell_type": "code",
   "execution_count": 13,
   "metadata": {},
   "outputs": [
    {
     "name": "stdout",
     "output_type": "stream",
     "text": [
      "[-1.  2.]\n"
     ]
    }
   ],
   "source": [
    "# Vi kan løse ligningsettet Ax = b med solve-metoden. \n",
    "A = np.array([[1, 2], [3, 4]])\n",
    "b = np.array([3, 5])\n",
    "x = np.linalg.solve(A, b)\n",
    "print(x)"
   ]
  },
  {
   "cell_type": "code",
   "execution_count": 14,
   "metadata": {},
   "outputs": [
    {
     "name": "stdout",
     "output_type": "stream",
     "text": [
      "-2.0\n"
     ]
    }
   ],
   "source": [
    "# Vi kan regne ut determinanten til en matrise med det-metoden.\n",
    "determinant = np.linalg.det(A)\n",
    "print(determinant)"
   ]
  },
  {
   "cell_type": "markdown",
   "metadata": {},
   "source": [
    "## Transponering og inversen av en matrise"
   ]
  },
  {
   "cell_type": "code",
   "execution_count": 15,
   "metadata": {},
   "outputs": [
    {
     "name": "stdout",
     "output_type": "stream",
     "text": [
      "[[1 3]\n",
      " [2 4]]\n"
     ]
    }
   ],
   "source": [
    "# Vi kan transponere en matrise med å bruke transpose-metoden.\n",
    "A_transponert = A.transpose()\n",
    "print(A_transponert)"
   ]
  },
  {
   "cell_type": "code",
   "execution_count": 16,
   "metadata": {},
   "outputs": [
    {
     "name": "stdout",
     "output_type": "stream",
     "text": [
      "[[-2.   1. ]\n",
      " [ 1.5 -0.5]]\n"
     ]
    }
   ],
   "source": [
    "# Vi kan regne ut inversen til en matrise med å bruke inv-metoden.\n",
    "invers_til_A = np.linalg.inv(A)\n",
    "print(invers_til_A)"
   ]
  }
 ],
 "metadata": {
  "kernelspec": {
   "display_name": "Python 3",
   "language": "python",
   "name": "python3"
  },
  "language_info": {
   "codemirror_mode": {
    "name": "ipython",
    "version": 3
   },
   "file_extension": ".py",
   "mimetype": "text/x-python",
   "name": "python",
   "nbconvert_exporter": "python",
   "pygments_lexer": "ipython3",
   "version": "3.6.3"
  }
 },
 "nbformat": 4,
 "nbformat_minor": 2
}
